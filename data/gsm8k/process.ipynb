{
 "cells": [
  {
   "cell_type": "code",
   "id": "initial_id",
   "metadata": {
    "collapsed": true,
    "ExecuteTime": {
     "end_time": "2025-05-04T03:45:42.690101Z",
     "start_time": "2025-05-04T03:45:10.473851Z"
    }
   },
   "source": [
    "from datasets import load_dataset\n",
    "import json\n",
    "import os\n",
    "\n",
    "# Define both subsets and splits\n",
    "subsets = [\"main\", \"socratic\"]\n",
    "splits = [\"train\", \"test\"]\n",
    "\n",
    "# Output directory\n",
    "base_dir = \"gsm8k\"\n",
    "\n",
    "# Process each subset and split\n",
    "for subset in subsets:\n",
    "    for split in splits:\n",
    "        print(f\"Processing subset: {subset} | split: {split} ...\")\n",
    "        try:\n",
    "            dataset = load_dataset(\"openai/gsm8k\", subset, split=split)\n",
    "        except Exception as e:\n",
    "            print(f\"Skipping {subset}-{split}: {e}\")\n",
    "            continue\n",
    "\n",
    "        # Format the data\n",
    "        formatted_data = []\n",
    "        for item in dataset:\n",
    "            formatted_data.append({\n",
    "                \"instruction\": \"\",\n",
    "                \"input\": item[\"question\"].strip() if item[\"question\"] else \"\",\n",
    "                \"output\": item[\"answer\"].strip() if item[\"answer\"] else \"\"\n",
    "            })\n",
    "\n",
    "        # Create output path and save\n",
    "        out_dir = os.path.join(base_dir, split)\n",
    "        os.makedirs(out_dir, exist_ok=True)\n",
    "        output_path = os.path.join(out_dir, f\"{subset}.json\")\n",
    "        with open(output_path, \"w\", encoding=\"utf-8\") as f:\n",
    "            json.dump(formatted_data, f, ensure_ascii=False, indent=2)\n",
    "\n",
    "        print(f\"Exported: {output_path}\")\n",
    "\n",
    "print(\"All subsets and splits have been processed.\")\n"
   ],
   "outputs": [
    {
     "name": "stderr",
     "output_type": "stream",
     "text": [
      "C:\\Users\\fzkuji\\.conda\\envs\\ensemble\\Lib\\site-packages\\tqdm\\auto.py:21: TqdmWarning: IProgress not found. Please update jupyter and ipywidgets. See https://ipywidgets.readthedocs.io/en/stable/user_install.html\n",
      "  from .autonotebook import tqdm as notebook_tqdm\n"
     ]
    },
    {
     "name": "stdout",
     "output_type": "stream",
     "text": [
      "Processing subset: main | split: train ...\n"
     ]
    },
    {
     "name": "stderr",
     "output_type": "stream",
     "text": [
      "C:\\Users\\fzkuji\\.conda\\envs\\ensemble\\Lib\\site-packages\\huggingface_hub\\file_download.py:144: UserWarning: `huggingface_hub` cache-system uses symlinks by default to efficiently store duplicated files but your machine does not support them in C:\\Users\\fzkuji\\.cache\\huggingface\\hub\\datasets--openai--gsm8k. Caching files will still work but in a degraded version that might require more space on your disk. This warning can be disabled by setting the `HF_HUB_DISABLE_SYMLINKS_WARNING` environment variable. For more details, see https://huggingface.co/docs/huggingface_hub/how-to-cache#limitations.\n",
      "To support symlinks on Windows, you either need to activate Developer Mode or to run Python as an administrator. In order to activate developer mode, see this article: https://docs.microsoft.com/en-us/windows/apps/get-started/enable-your-device-for-development\n",
      "  warnings.warn(message)\n",
      "Generating train split: 100%|██████████| 7473/7473 [00:00<00:00, 303474.24 examples/s]\n",
      "Generating test split: 100%|██████████| 1319/1319 [00:00<00:00, 263705.94 examples/s]\n"
     ]
    },
    {
     "name": "stdout",
     "output_type": "stream",
     "text": [
      "Exported: gsm8k\\train\\main.json\n",
      "Processing subset: main | split: test ...\n",
      "Exported: gsm8k\\test\\main.json\n",
      "Processing subset: socratic | split: train ...\n"
     ]
    },
    {
     "name": "stderr",
     "output_type": "stream",
     "text": [
      "Generating train split: 100%|██████████| 7473/7473 [00:00<00:00, 533815.31 examples/s]\n",
      "Generating test split: 100%|██████████| 1319/1319 [00:00<00:00, 263819.12 examples/s]\n"
     ]
    },
    {
     "name": "stdout",
     "output_type": "stream",
     "text": [
      "Exported: gsm8k\\train\\socratic.json\n",
      "Processing subset: socratic | split: test ...\n",
      "Exported: gsm8k\\test\\socratic.json\n",
      "All subsets and splits have been processed.\n"
     ]
    }
   ],
   "execution_count": 1
  },
  {
   "metadata": {
    "ExecuteTime": {
     "end_time": "2025-05-04T04:23:40.255654Z",
     "start_time": "2025-05-04T04:23:16.112265Z"
    }
   },
   "cell_type": "code",
   "source": [
    "from datasets import load_dataset\n",
    "import json\n",
    "import os\n",
    "import re\n",
    "\n",
    "# Define both subsets and splits\n",
    "subsets = [\"main\", \"socratic\"]\n",
    "splits = [\"train\", \"test\"]\n",
    "\n",
    "# Output directory\n",
    "base_dir = \"gsm8k\"\n",
    "\n",
    "# Function to replace '#### 72' with '\\boxed{72}' at the end\n",
    "def replace_boxed(answer: str) -> str:\n",
    "    match = re.search(r\"####\\s*(.+)\", answer)\n",
    "    if match:\n",
    "        final_answer = match.group(1).strip()\n",
    "        # Remove original '#### ...'\n",
    "        answer = re.sub(r\"####\\s*.+\", \"\", answer).rstrip()\n",
    "        # Append \\boxed{} notation\n",
    "        answer += f\"\\n\\\\boxed{{{final_answer}}}\"\n",
    "    return answer\n",
    "\n",
    "# Process each subset and split\n",
    "for subset in subsets:\n",
    "    for split in splits:\n",
    "        print(f\"Processing subset: {subset} | split: {split} ...\")\n",
    "        try:\n",
    "            dataset = load_dataset(\"openai/gsm8k\", subset, split=split)\n",
    "        except Exception as e:\n",
    "            print(f\"Skipping {subset}-{split}: {e}\")\n",
    "            continue\n",
    "\n",
    "        # Format the data\n",
    "        formatted_data = []\n",
    "        for item in dataset:\n",
    "            input_text = item[\"question\"].strip() if item[\"question\"] else \"\"\n",
    "            output_text = item[\"answer\"].strip() if item[\"answer\"] else \"\"\n",
    "            output_text = replace_boxed(output_text)\n",
    "            formatted_data.append({\n",
    "                \"instruction\": \"\",\n",
    "                \"input\": input_text,\n",
    "                \"output\": output_text\n",
    "            })\n",
    "\n",
    "        # Save JSON\n",
    "        out_dir = os.path.join(base_dir, split)\n",
    "        os.makedirs(out_dir, exist_ok=True)\n",
    "        output_path = os.path.join(out_dir, f\"{subset}.json\")\n",
    "        with open(output_path, \"w\", encoding=\"utf-8\") as f:\n",
    "            json.dump(formatted_data, f, ensure_ascii=False, indent=2)\n",
    "\n",
    "        print(f\"Exported: {output_path}\")\n",
    "\n",
    "print(\"All subsets and splits have been processed.\")\n"
   ],
   "id": "e5124f5a82956ba0",
   "outputs": [
    {
     "name": "stdout",
     "output_type": "stream",
     "text": [
      "Processing subset: main | split: train ...\n",
      "Exported: gsm8k\\train\\main.json\n",
      "Processing subset: main | split: test ...\n",
      "Exported: gsm8k\\test\\main.json\n",
      "Processing subset: socratic | split: train ...\n",
      "Exported: gsm8k\\train\\socratic.json\n",
      "Processing subset: socratic | split: test ...\n",
      "Exported: gsm8k\\test\\socratic.json\n",
      "All subsets and splits have been processed.\n"
     ]
    }
   ],
   "execution_count": 2
  },
  {
   "metadata": {},
   "cell_type": "code",
   "outputs": [],
   "execution_count": null,
   "source": "",
   "id": "7ce2cd59d9f06195"
  }
 ],
 "metadata": {
  "kernelspec": {
   "display_name": "Python 3",
   "language": "python",
   "name": "python3"
  },
  "language_info": {
   "codemirror_mode": {
    "name": "ipython",
    "version": 2
   },
   "file_extension": ".py",
   "mimetype": "text/x-python",
   "name": "python",
   "nbconvert_exporter": "python",
   "pygments_lexer": "ipython2",
   "version": "2.7.6"
  }
 },
 "nbformat": 4,
 "nbformat_minor": 5
}
