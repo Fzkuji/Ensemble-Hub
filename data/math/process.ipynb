{
 "cells": [
  {
   "cell_type": "code",
   "id": "initial_id",
   "metadata": {
    "collapsed": true,
    "ExecuteTime": {
     "end_time": "2025-05-04T03:38:34.264014Z",
     "start_time": "2025-05-04T03:38:28.498731Z"
    }
   },
   "source": [
    "from datasets import load_dataset\n",
    "import json\n",
    "import os\n",
    "\n",
    "\n",
    "# List of all subsets in the hendrycks_math dataset\n",
    "subsets = [\n",
    "    \"algebra\",\n",
    "    \"counting_and_probability\",\n",
    "    \"geometry\",\n",
    "    \"intermediate_algebra\",\n",
    "    \"number_theory\",\n",
    "    \"prealgebra\",\n",
    "    \"precalculus\",\n",
    "]\n",
    "\n",
    "split = \"test\"\n",
    "\n",
    "# Create output directory\n",
    "os.makedirs(f\"hendrycks_math/{split}\", exist_ok=True)\n",
    "\n",
    "# Iterate over each subset\n",
    "for subset in subsets:\n",
    "    print(f\"Processing subset: {subset} ...\")\n",
    "    dataset = load_dataset(\"EleutherAI/hendrycks_math\", subset, split=split)\n",
    "\n",
    "    # Convert to LLaMA Factory format\n",
    "    formatted_data = []\n",
    "    for item in dataset:\n",
    "        formatted_data.append({\n",
    "            \"instruction\": \"\",\n",
    "            \"input\": item[\"problem\"].strip() if item[\"problem\"] else \"\",\n",
    "            \"output\": item[\"solution\"].strip() if item[\"solution\"] else \"\"\n",
    "        })\n",
    "\n",
    "    # Save to JSON file\n",
    "    output_path = f\"hendrycks_math/{split}/{subset}.json\"\n",
    "    with open(output_path, \"w\", encoding=\"utf-8\") as f:\n",
    "        json.dump(formatted_data, f, ensure_ascii=False, indent=2)\n",
    "\n",
    "    print(f\"Exported: {output_path}\")\n",
    "\n",
    "print(\"All subsets have been processed.\")\n"
   ],
   "outputs": [
    {
     "name": "stdout",
     "output_type": "stream",
     "text": [
      "Processing subset: algebra ...\n"
     ]
    },
    {
     "name": "stderr",
     "output_type": "stream",
     "text": [
      "Using the latest cached version of the dataset since EleutherAI/hendrycks_math couldn't be found on the Hugging Face Hub\n",
      "Found the latest cached dataset configuration 'algebra' at C:\\Users\\fzkuji\\.cache\\huggingface\\datasets\\EleutherAI___hendrycks_math\\algebra\\0.0.0\\21a5633873b6a120296cce3e2df9d5550074f4a3 (last modified on Mon Apr 28 17:33:33 2025).\n"
     ]
    },
    {
     "name": "stdout",
     "output_type": "stream",
     "text": [
      "Exported: hendrycks_math/test/algebra.json\n",
      "Processing subset: counting_and_probability ...\n"
     ]
    },
    {
     "name": "stderr",
     "output_type": "stream",
     "text": [
      "Using the latest cached version of the dataset since EleutherAI/hendrycks_math couldn't be found on the Hugging Face Hub\n",
      "Found the latest cached dataset configuration 'counting_and_probability' at C:\\Users\\fzkuji\\.cache\\huggingface\\datasets\\EleutherAI___hendrycks_math\\counting_and_probability\\0.0.0\\21a5633873b6a120296cce3e2df9d5550074f4a3 (last modified on Mon Apr 28 17:33:41 2025).\n"
     ]
    },
    {
     "name": "stdout",
     "output_type": "stream",
     "text": [
      "Exported: hendrycks_math/test/counting_and_probability.json\n",
      "Processing subset: geometry ...\n"
     ]
    },
    {
     "name": "stderr",
     "output_type": "stream",
     "text": [
      "Using the latest cached version of the dataset since EleutherAI/hendrycks_math couldn't be found on the Hugging Face Hub\n",
      "Found the latest cached dataset configuration 'geometry' at C:\\Users\\fzkuji\\.cache\\huggingface\\datasets\\EleutherAI___hendrycks_math\\geometry\\0.0.0\\21a5633873b6a120296cce3e2df9d5550074f4a3 (last modified on Mon Apr 28 17:33:48 2025).\n"
     ]
    },
    {
     "name": "stdout",
     "output_type": "stream",
     "text": [
      "Exported: hendrycks_math/test/geometry.json\n",
      "Processing subset: intermediate_algebra ...\n"
     ]
    },
    {
     "name": "stderr",
     "output_type": "stream",
     "text": [
      "Using the latest cached version of the dataset since EleutherAI/hendrycks_math couldn't be found on the Hugging Face Hub\n",
      "Found the latest cached dataset configuration 'intermediate_algebra' at C:\\Users\\fzkuji\\.cache\\huggingface\\datasets\\EleutherAI___hendrycks_math\\intermediate_algebra\\0.0.0\\21a5633873b6a120296cce3e2df9d5550074f4a3 (last modified on Mon Apr 28 17:33:55 2025).\n"
     ]
    },
    {
     "name": "stdout",
     "output_type": "stream",
     "text": [
      "Exported: hendrycks_math/test/intermediate_algebra.json\n",
      "Processing subset: number_theory ...\n"
     ]
    },
    {
     "name": "stderr",
     "output_type": "stream",
     "text": [
      "Using the latest cached version of the dataset since EleutherAI/hendrycks_math couldn't be found on the Hugging Face Hub\n",
      "Found the latest cached dataset configuration 'number_theory' at C:\\Users\\fzkuji\\.cache\\huggingface\\datasets\\EleutherAI___hendrycks_math\\number_theory\\0.0.0\\21a5633873b6a120296cce3e2df9d5550074f4a3 (last modified on Mon Apr 28 17:34:02 2025).\n"
     ]
    },
    {
     "name": "stdout",
     "output_type": "stream",
     "text": [
      "Exported: hendrycks_math/test/number_theory.json\n",
      "Processing subset: prealgebra ...\n"
     ]
    },
    {
     "name": "stderr",
     "output_type": "stream",
     "text": [
      "Using the latest cached version of the dataset since EleutherAI/hendrycks_math couldn't be found on the Hugging Face Hub\n",
      "Found the latest cached dataset configuration 'prealgebra' at C:\\Users\\fzkuji\\.cache\\huggingface\\datasets\\EleutherAI___hendrycks_math\\prealgebra\\0.0.0\\21a5633873b6a120296cce3e2df9d5550074f4a3 (last modified on Mon Apr 28 17:34:09 2025).\n"
     ]
    },
    {
     "name": "stdout",
     "output_type": "stream",
     "text": [
      "Exported: hendrycks_math/test/prealgebra.json\n",
      "Processing subset: precalculus ...\n"
     ]
    },
    {
     "name": "stderr",
     "output_type": "stream",
     "text": [
      "Using the latest cached version of the dataset since EleutherAI/hendrycks_math couldn't be found on the Hugging Face Hub\n",
      "Found the latest cached dataset configuration 'precalculus' at C:\\Users\\fzkuji\\.cache\\huggingface\\datasets\\EleutherAI___hendrycks_math\\precalculus\\0.0.0\\21a5633873b6a120296cce3e2df9d5550074f4a3 (last modified on Mon Apr 28 17:34:15 2025).\n"
     ]
    },
    {
     "name": "stdout",
     "output_type": "stream",
     "text": [
      "Exported: hendrycks_math/test/precalculus.json\n",
      "All subsets have been processed.\n"
     ]
    }
   ],
   "execution_count": 5
  },
  {
   "metadata": {},
   "cell_type": "code",
   "outputs": [],
   "execution_count": null,
   "source": "",
   "id": "496b1eac213c103"
  }
 ],
 "metadata": {
  "kernelspec": {
   "display_name": "Python 3",
   "language": "python",
   "name": "python3"
  },
  "language_info": {
   "codemirror_mode": {
    "name": "ipython",
    "version": 2
   },
   "file_extension": ".py",
   "mimetype": "text/x-python",
   "name": "python",
   "nbconvert_exporter": "python",
   "pygments_lexer": "ipython2",
   "version": "2.7.6"
  }
 },
 "nbformat": 4,
 "nbformat_minor": 5
}
